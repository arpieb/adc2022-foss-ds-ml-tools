{
 "cells": [
  {
   "cell_type": "markdown",
   "id": "48c1b778-1a0d-4bb5-8e6c-7c92d5a773c5",
   "metadata": {},
   "source": [
    "# Intro to Deep Learning - Keras\n",
    "\n",
    "https://towardsdatascience.com/converting-from-keras-to-pytorch-lightning-be40326d7b7d\n",
    "\n",
    "Tutorial from: https://keras.io/examples/mnist_cnn/"
   ]
  },
  {
   "cell_type": "markdown",
   "id": "5882292b-ec80-4236-8e42-40f8ba73f56c",
   "metadata": {},
   "source": [
    "## Install packages"
   ]
  },
  {
   "cell_type": "code",
   "execution_count": 2,
   "id": "f0c9f7dd-0146-4e96-bd6d-621a83aaf672",
   "metadata": {
    "execution": {
     "iopub.execute_input": "2022-09-15T01:54:26.384679Z",
     "iopub.status.busy": "2022-09-15T01:54:26.384106Z",
     "iopub.status.idle": "2022-09-15T01:54:31.196531Z",
     "shell.execute_reply": "2022-09-15T01:54:31.195326Z",
     "shell.execute_reply.started": "2022-09-15T01:54:26.384648Z"
    },
    "tags": []
   },
   "outputs": [
    {
     "name": "stdout",
     "output_type": "stream",
     "text": [
      "\u001b[31mERROR: grpcio-1.33.2-cp38-cp38-macosx_11_0_x86_64.whl is not a supported wheel on this platform.\u001b[0m\u001b[31m\n",
      "\u001b[0mRequirement already satisfied: keras in /Users/rbates/src/adc2022/ENV/lib/python3.10/site-packages (2.10.0)\n"
     ]
    }
   ],
   "source": [
    "# macOS Intel + Big Sur\n",
    "!pip install --upgrade ~/Downloads/tensorflow_macos/x86_64/*.whl --no-dependencies --force\n",
    "\n",
    "# Everwhere else\n",
    "#!pip install tensorflow\n",
    "\n",
    "!pip install keras"
   ]
  },
  {
   "cell_type": "code",
   "execution_count": null,
   "id": "887938e1-b19b-4d94-a6e3-a9a55dd8b32a",
   "metadata": {
    "execution": {
     "iopub.execute_input": "2022-09-15T01:48:19.620843Z",
     "iopub.status.busy": "2022-09-15T01:48:19.620401Z"
    }
   },
   "outputs": [],
   "source": [
    "from __future__ import print_function\n",
    "import keras\n",
    "from keras.datasets import mnist\n",
    "from keras.models import Sequential\n",
    "from keras.layers import Dense, Dropout, Flatten\n",
    "from keras.layers import Conv2D, MaxPooling2D\n",
    "from keras import backend as K"
   ]
  },
  {
   "cell_type": "markdown",
   "id": "8a3106d3-fe5a-4a27-bf67-1f99188b4d35",
   "metadata": {},
   "source": [
    "## Prepare train-test splits"
   ]
  },
  {
   "cell_type": "code",
   "execution_count": null,
   "id": "c172c410-8c6d-4c50-9c3a-df861685f498",
   "metadata": {},
   "outputs": [],
   "source": [
    "batch_size = 128\n",
    "num_classes = 10\n",
    "epochs = 12\n",
    "\n",
    "# input image dimensions\n",
    "img_rows, img_cols = 28, 28\n",
    "\n",
    "# the data, split between train and test sets\n",
    "(x_train, y_train), (x_test, y_test) = mnist.load_data()\n",
    "\n",
    "if K.image_data_format() == 'channels_first':\n",
    "    x_train = x_train.reshape(x_train.shape[0], 1, img_rows, img_cols)\n",
    "    x_test = x_test.reshape(x_test.shape[0], 1, img_rows, img_cols)\n",
    "    input_shape = (1, img_rows, img_cols)\n",
    "else:\n",
    "    x_train = x_train.reshape(x_train.shape[0], img_rows, img_cols, 1)\n",
    "    x_test = x_test.reshape(x_test.shape[0], img_rows, img_cols, 1)\n",
    "    input_shape = (img_rows, img_cols, 1)\n",
    "\n",
    "x_train = x_train.astype('float32')\n",
    "x_test = x_test.astype('float32')\n",
    "x_train /= 255\n",
    "x_test /= 255\n",
    "print('x_train shape:', x_train.shape)\n",
    "print(x_train.shape[0], 'train samples')\n",
    "print(x_test.shape[0], 'test samples')\n",
    "\n",
    "# convert class vectors to binary class matrices\n",
    "y_train = keras.utils.to_categorical(y_train, num_classes)\n",
    "y_test = keras.utils.to_categorical(y_test, num_classes)"
   ]
  },
  {
   "cell_type": "markdown",
   "id": "bdc4ae4b-cd83-415f-8be0-735baa3db0a9",
   "metadata": {},
   "source": [
    "## Define the model"
   ]
  },
  {
   "cell_type": "code",
   "execution_count": null,
   "id": "fba3501c-c641-4033-af5c-0a406b1f95f3",
   "metadata": {},
   "outputs": [],
   "source": [
    "model = Sequential()\n",
    "model.add(Conv2D(32, kernel_size=(3, 3),\n",
    "                 activation='relu',\n",
    "                 input_shape=input_shape))\n",
    "model.add(Conv2D(64, (3, 3), activation='relu'))\n",
    "model.add(MaxPooling2D(pool_size=(2, 2)))\n",
    "model.add(Dropout(0.25))\n",
    "model.add(Flatten())\n",
    "model.add(Dense(128, activation='relu'))\n",
    "model.add(Dropout(0.5))\n",
    "model.add(Dense(num_classes, activation='softmax'))"
   ]
  },
  {
   "cell_type": "markdown",
   "id": "7731dc6d-3e42-45e8-921d-0006ad84f0e6",
   "metadata": {},
   "source": [
    "## Compile and train the model"
   ]
  },
  {
   "cell_type": "code",
   "execution_count": null,
   "id": "b81f70fe-24b9-4a43-9137-6473f7a89628",
   "metadata": {},
   "outputs": [],
   "source": [
    "model.compile(loss=keras.losses.categorical_crossentropy,\n",
    "              optimizer=keras.optimizers.Adadelta(),\n",
    "              metrics=['accuracy'])\n",
    "\n",
    "model.fit(x_train, y_train,\n",
    "          batch_size=batch_size,\n",
    "          epochs=epochs,\n",
    "          verbose=1,\n",
    "          validation_data=(x_test, y_test))"
   ]
  },
  {
   "cell_type": "markdown",
   "id": "6949465f-389e-4f43-89d5-63212bb4af9b",
   "metadata": {},
   "source": [
    "## Evaluate the model"
   ]
  },
  {
   "cell_type": "code",
   "execution_count": null,
   "id": "5fa6cea3-5729-4ada-9d35-9643bee38cbe",
   "metadata": {},
   "outputs": [],
   "source": [
    "score = model.evaluate(x_test, y_test, verbose=0)\n",
    "print('Test loss:', score[0])\n",
    "print('Test accuracy:', score[1])"
   ]
  }
 ],
 "metadata": {
  "kernelspec": {
   "display_name": "Python 3 (ipykernel)",
   "language": "python",
   "name": "python3"
  },
  "language_info": {
   "codemirror_mode": {
    "name": "ipython",
    "version": 3
   },
   "file_extension": ".py",
   "mimetype": "text/x-python",
   "name": "python",
   "nbconvert_exporter": "python",
   "pygments_lexer": "ipython3",
   "version": "3.10.6"
  }
 },
 "nbformat": 4,
 "nbformat_minor": 5
}
