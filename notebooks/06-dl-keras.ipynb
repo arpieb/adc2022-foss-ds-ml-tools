{
 "cells": [
  {
   "cell_type": "markdown",
   "id": "48c1b778-1a0d-4bb5-8e6c-7c92d5a773c5",
   "metadata": {},
   "source": [
    "# Intro to Deep Learning - Keras\n",
    "\n",
    "https://towardsdatascience.com/converting-from-keras-to-pytorch-lightning-be40326d7b7d\n",
    "\n",
    "Tutorial from: https://keras.io/examples/mnist_cnn/"
   ]
  },
  {
   "cell_type": "markdown",
   "id": "5882292b-ec80-4236-8e42-40f8ba73f56c",
   "metadata": {},
   "source": [
    "## Install packages"
   ]
  },
  {
   "cell_type": "code",
   "execution_count": 1,
   "id": "f0c9f7dd-0146-4e96-bd6d-621a83aaf672",
   "metadata": {
    "tags": []
   },
   "outputs": [
    {
     "name": "stdout",
     "output_type": "stream",
     "text": [
      "Requirement already satisfied: tensorflow in /Users/rbates/src/adc2022-foss-ds-ml-tools/ENV/lib/python3.10/site-packages (2.10.0)\n",
      "Requirement already satisfied: protobuf<3.20,>=3.9.2 in /Users/rbates/src/adc2022-foss-ds-ml-tools/ENV/lib/python3.10/site-packages (from tensorflow) (3.19.5)\n",
      "Requirement already satisfied: termcolor>=1.1.0 in /Users/rbates/src/adc2022-foss-ds-ml-tools/ENV/lib/python3.10/site-packages (from tensorflow) (2.0.1)\n",
      "Requirement already satisfied: tensorboard<2.11,>=2.10 in /Users/rbates/src/adc2022-foss-ds-ml-tools/ENV/lib/python3.10/site-packages (from tensorflow) (2.10.0)\n",
      "Requirement already satisfied: h5py>=2.9.0 in /Users/rbates/src/adc2022-foss-ds-ml-tools/ENV/lib/python3.10/site-packages (from tensorflow) (3.7.0)\n",
      "Requirement already satisfied: tensorflow-estimator<2.11,>=2.10.0 in /Users/rbates/src/adc2022-foss-ds-ml-tools/ENV/lib/python3.10/site-packages (from tensorflow) (2.10.0)\n",
      "Requirement already satisfied: gast<=0.4.0,>=0.2.1 in /Users/rbates/src/adc2022-foss-ds-ml-tools/ENV/lib/python3.10/site-packages (from tensorflow) (0.4.0)\n",
      "Requirement already satisfied: tensorflow-io-gcs-filesystem>=0.23.1 in /Users/rbates/src/adc2022-foss-ds-ml-tools/ENV/lib/python3.10/site-packages (from tensorflow) (0.27.0)\n",
      "Requirement already satisfied: keras-preprocessing>=1.1.1 in /Users/rbates/src/adc2022-foss-ds-ml-tools/ENV/lib/python3.10/site-packages (from tensorflow) (1.1.2)\n",
      "Requirement already satisfied: wrapt>=1.11.0 in /Users/rbates/src/adc2022-foss-ds-ml-tools/ENV/lib/python3.10/site-packages (from tensorflow) (1.14.1)\n",
      "Requirement already satisfied: setuptools in /Users/rbates/src/adc2022-foss-ds-ml-tools/ENV/lib/python3.10/site-packages (from tensorflow) (65.3.0)\n",
      "Requirement already satisfied: google-pasta>=0.1.1 in /Users/rbates/src/adc2022-foss-ds-ml-tools/ENV/lib/python3.10/site-packages (from tensorflow) (0.2.0)\n",
      "Requirement already satisfied: absl-py>=1.0.0 in /Users/rbates/src/adc2022-foss-ds-ml-tools/ENV/lib/python3.10/site-packages (from tensorflow) (1.2.0)\n",
      "Requirement already satisfied: packaging in /Users/rbates/src/adc2022-foss-ds-ml-tools/ENV/lib/python3.10/site-packages (from tensorflow) (21.3)\n",
      "Requirement already satisfied: grpcio<2.0,>=1.24.3 in /Users/rbates/src/adc2022-foss-ds-ml-tools/ENV/lib/python3.10/site-packages (from tensorflow) (1.49.0)\n",
      "Requirement already satisfied: typing-extensions>=3.6.6 in /Users/rbates/src/adc2022-foss-ds-ml-tools/ENV/lib/python3.10/site-packages (from tensorflow) (4.3.0)\n",
      "Requirement already satisfied: numpy>=1.20 in /Users/rbates/src/adc2022-foss-ds-ml-tools/ENV/lib/python3.10/site-packages (from tensorflow) (1.23.3)\n",
      "Requirement already satisfied: libclang>=13.0.0 in /Users/rbates/src/adc2022-foss-ds-ml-tools/ENV/lib/python3.10/site-packages (from tensorflow) (14.0.6)\n",
      "Requirement already satisfied: six>=1.12.0 in /Users/rbates/src/adc2022-foss-ds-ml-tools/ENV/lib/python3.10/site-packages (from tensorflow) (1.16.0)\n",
      "Requirement already satisfied: keras<2.11,>=2.10.0 in /Users/rbates/src/adc2022-foss-ds-ml-tools/ENV/lib/python3.10/site-packages (from tensorflow) (2.10.0)\n",
      "Requirement already satisfied: flatbuffers>=2.0 in /Users/rbates/src/adc2022-foss-ds-ml-tools/ENV/lib/python3.10/site-packages (from tensorflow) (2.0.7)\n",
      "Requirement already satisfied: opt-einsum>=2.3.2 in /Users/rbates/src/adc2022-foss-ds-ml-tools/ENV/lib/python3.10/site-packages (from tensorflow) (3.3.0)\n",
      "Requirement already satisfied: astunparse>=1.6.0 in /Users/rbates/src/adc2022-foss-ds-ml-tools/ENV/lib/python3.10/site-packages (from tensorflow) (1.6.3)\n",
      "Requirement already satisfied: wheel<1.0,>=0.23.0 in /Users/rbates/src/adc2022-foss-ds-ml-tools/ENV/lib/python3.10/site-packages (from astunparse>=1.6.0->tensorflow) (0.37.1)\n",
      "Requirement already satisfied: google-auth-oauthlib<0.5,>=0.4.1 in /Users/rbates/src/adc2022-foss-ds-ml-tools/ENV/lib/python3.10/site-packages (from tensorboard<2.11,>=2.10->tensorflow) (0.4.6)\n",
      "Requirement already satisfied: tensorboard-data-server<0.7.0,>=0.6.0 in /Users/rbates/src/adc2022-foss-ds-ml-tools/ENV/lib/python3.10/site-packages (from tensorboard<2.11,>=2.10->tensorflow) (0.6.1)\n",
      "Requirement already satisfied: markdown>=2.6.8 in /Users/rbates/src/adc2022-foss-ds-ml-tools/ENV/lib/python3.10/site-packages (from tensorboard<2.11,>=2.10->tensorflow) (3.4.1)\n",
      "Requirement already satisfied: tensorboard-plugin-wit>=1.6.0 in /Users/rbates/src/adc2022-foss-ds-ml-tools/ENV/lib/python3.10/site-packages (from tensorboard<2.11,>=2.10->tensorflow) (1.8.1)\n",
      "Requirement already satisfied: requests<3,>=2.21.0 in /Users/rbates/src/adc2022-foss-ds-ml-tools/ENV/lib/python3.10/site-packages (from tensorboard<2.11,>=2.10->tensorflow) (2.28.1)\n",
      "Requirement already satisfied: google-auth<3,>=1.6.3 in /Users/rbates/src/adc2022-foss-ds-ml-tools/ENV/lib/python3.10/site-packages (from tensorboard<2.11,>=2.10->tensorflow) (2.11.0)\n",
      "Requirement already satisfied: werkzeug>=1.0.1 in /Users/rbates/src/adc2022-foss-ds-ml-tools/ENV/lib/python3.10/site-packages (from tensorboard<2.11,>=2.10->tensorflow) (2.2.2)\n",
      "Requirement already satisfied: pyparsing!=3.0.5,>=2.0.2 in /Users/rbates/src/adc2022-foss-ds-ml-tools/ENV/lib/python3.10/site-packages (from packaging->tensorflow) (3.0.9)\n",
      "Requirement already satisfied: pyasn1-modules>=0.2.1 in /Users/rbates/src/adc2022-foss-ds-ml-tools/ENV/lib/python3.10/site-packages (from google-auth<3,>=1.6.3->tensorboard<2.11,>=2.10->tensorflow) (0.2.8)\n",
      "Requirement already satisfied: cachetools<6.0,>=2.0.0 in /Users/rbates/src/adc2022-foss-ds-ml-tools/ENV/lib/python3.10/site-packages (from google-auth<3,>=1.6.3->tensorboard<2.11,>=2.10->tensorflow) (5.2.0)\n",
      "Requirement already satisfied: rsa<5,>=3.1.4 in /Users/rbates/src/adc2022-foss-ds-ml-tools/ENV/lib/python3.10/site-packages (from google-auth<3,>=1.6.3->tensorboard<2.11,>=2.10->tensorflow) (4.9)\n",
      "Requirement already satisfied: requests-oauthlib>=0.7.0 in /Users/rbates/src/adc2022-foss-ds-ml-tools/ENV/lib/python3.10/site-packages (from google-auth-oauthlib<0.5,>=0.4.1->tensorboard<2.11,>=2.10->tensorflow) (1.3.1)\n",
      "Requirement already satisfied: charset-normalizer<3,>=2 in /Users/rbates/src/adc2022-foss-ds-ml-tools/ENV/lib/python3.10/site-packages (from requests<3,>=2.21.0->tensorboard<2.11,>=2.10->tensorflow) (2.1.1)\n",
      "Requirement already satisfied: idna<4,>=2.5 in /Users/rbates/src/adc2022-foss-ds-ml-tools/ENV/lib/python3.10/site-packages (from requests<3,>=2.21.0->tensorboard<2.11,>=2.10->tensorflow) (3.4)\n",
      "Requirement already satisfied: urllib3<1.27,>=1.21.1 in /Users/rbates/src/adc2022-foss-ds-ml-tools/ENV/lib/python3.10/site-packages (from requests<3,>=2.21.0->tensorboard<2.11,>=2.10->tensorflow) (1.26.12)\n",
      "Requirement already satisfied: certifi>=2017.4.17 in /Users/rbates/src/adc2022-foss-ds-ml-tools/ENV/lib/python3.10/site-packages (from requests<3,>=2.21.0->tensorboard<2.11,>=2.10->tensorflow) (2022.9.14)\n",
      "Requirement already satisfied: MarkupSafe>=2.1.1 in /Users/rbates/src/adc2022-foss-ds-ml-tools/ENV/lib/python3.10/site-packages (from werkzeug>=1.0.1->tensorboard<2.11,>=2.10->tensorflow) (2.1.1)\n",
      "Requirement already satisfied: pyasn1<0.5.0,>=0.4.6 in /Users/rbates/src/adc2022-foss-ds-ml-tools/ENV/lib/python3.10/site-packages (from pyasn1-modules>=0.2.1->google-auth<3,>=1.6.3->tensorboard<2.11,>=2.10->tensorflow) (0.4.8)\n",
      "Requirement already satisfied: oauthlib>=3.0.0 in /Users/rbates/src/adc2022-foss-ds-ml-tools/ENV/lib/python3.10/site-packages (from requests-oauthlib>=0.7.0->google-auth-oauthlib<0.5,>=0.4.1->tensorboard<2.11,>=2.10->tensorflow) (3.2.1)\n",
      "Requirement already satisfied: keras in /Users/rbates/src/adc2022-foss-ds-ml-tools/ENV/lib/python3.10/site-packages (2.10.0)\n"
     ]
    }
   ],
   "source": [
    "# macOS Intel + Big Sur\n",
    "#!pip install --upgrade ~/Downloads/tensorflow_macos/x86_64/*.whl --no-dependencies --force\n",
    "\n",
    "# Everwhere else\n",
    "!pip install tensorflow\n",
    "\n",
    "!pip install keras"
   ]
  },
  {
   "cell_type": "code",
   "execution_count": 2,
   "id": "887938e1-b19b-4d94-a6e3-a9a55dd8b32a",
   "metadata": {
    "tags": []
   },
   "outputs": [
    {
     "name": "stderr",
     "output_type": "stream",
     "text": [
      "2022-09-15 18:58:01.773649: I tensorflow/core/platform/cpu_feature_guard.cc:193] This TensorFlow binary is optimized with oneAPI Deep Neural Network Library (oneDNN) to use the following CPU instructions in performance-critical operations:  AVX2 FMA\n",
      "To enable them in other operations, rebuild TensorFlow with the appropriate compiler flags.\n"
     ]
    }
   ],
   "source": [
    "from __future__ import print_function\n",
    "import keras\n",
    "from keras.datasets import mnist\n",
    "from keras.models import Sequential\n",
    "from keras.layers import Dense, Dropout, Flatten\n",
    "from keras.layers import Conv2D, MaxPooling2D\n",
    "from keras import backend as K"
   ]
  },
  {
   "cell_type": "markdown",
   "id": "8a3106d3-fe5a-4a27-bf67-1f99188b4d35",
   "metadata": {},
   "source": [
    "## Prepare train-test splits"
   ]
  },
  {
   "cell_type": "code",
   "execution_count": 3,
   "id": "c172c410-8c6d-4c50-9c3a-df861685f498",
   "metadata": {},
   "outputs": [
    {
     "name": "stdout",
     "output_type": "stream",
     "text": [
      "x_train shape: (60000, 28, 28, 1)\n",
      "60000 train samples\n",
      "10000 test samples\n"
     ]
    }
   ],
   "source": [
    "batch_size = 128\n",
    "num_classes = 10\n",
    "epochs = 3\n",
    "\n",
    "# input image dimensions\n",
    "img_rows, img_cols = 28, 28\n",
    "\n",
    "# the data, split between train and test sets\n",
    "(x_train, y_train), (x_test, y_test) = mnist.load_data()\n",
    "\n",
    "if K.image_data_format() == 'channels_first':\n",
    "    x_train = x_train.reshape(x_train.shape[0], 1, img_rows, img_cols)\n",
    "    x_test = x_test.reshape(x_test.shape[0], 1, img_rows, img_cols)\n",
    "    input_shape = (1, img_rows, img_cols)\n",
    "else:\n",
    "    x_train = x_train.reshape(x_train.shape[0], img_rows, img_cols, 1)\n",
    "    x_test = x_test.reshape(x_test.shape[0], img_rows, img_cols, 1)\n",
    "    input_shape = (img_rows, img_cols, 1)\n",
    "\n",
    "x_train = x_train.astype('float32')\n",
    "x_test = x_test.astype('float32')\n",
    "x_train /= 255\n",
    "x_test /= 255\n",
    "print('x_train shape:', x_train.shape)\n",
    "print(x_train.shape[0], 'train samples')\n",
    "print(x_test.shape[0], 'test samples')\n",
    "\n",
    "# convert class vectors to binary class matrices\n",
    "y_train = keras.utils.to_categorical(y_train, num_classes)\n",
    "y_test = keras.utils.to_categorical(y_test, num_classes)"
   ]
  },
  {
   "cell_type": "markdown",
   "id": "bdc4ae4b-cd83-415f-8be0-735baa3db0a9",
   "metadata": {},
   "source": [
    "## Define the model"
   ]
  },
  {
   "cell_type": "code",
   "execution_count": 4,
   "id": "fba3501c-c641-4033-af5c-0a406b1f95f3",
   "metadata": {},
   "outputs": [
    {
     "name": "stderr",
     "output_type": "stream",
     "text": [
      "2022-09-15 18:58:05.966437: I tensorflow/core/platform/cpu_feature_guard.cc:193] This TensorFlow binary is optimized with oneAPI Deep Neural Network Library (oneDNN) to use the following CPU instructions in performance-critical operations:  AVX2 FMA\n",
      "To enable them in other operations, rebuild TensorFlow with the appropriate compiler flags.\n"
     ]
    }
   ],
   "source": [
    "model = Sequential()\n",
    "model.add(Conv2D(32, kernel_size=(3, 3),\n",
    "                 activation='relu',\n",
    "                 input_shape=input_shape))\n",
    "model.add(Conv2D(64, (3, 3), activation='relu'))\n",
    "model.add(MaxPooling2D(pool_size=(2, 2)))\n",
    "model.add(Dropout(0.25))\n",
    "model.add(Flatten())\n",
    "model.add(Dense(128, activation='relu'))\n",
    "model.add(Dropout(0.5))\n",
    "model.add(Dense(num_classes, activation='softmax'))"
   ]
  },
  {
   "cell_type": "markdown",
   "id": "7731dc6d-3e42-45e8-921d-0006ad84f0e6",
   "metadata": {},
   "source": [
    "## Compile and train the model"
   ]
  },
  {
   "cell_type": "code",
   "execution_count": 5,
   "id": "b81f70fe-24b9-4a43-9137-6473f7a89628",
   "metadata": {},
   "outputs": [
    {
     "name": "stdout",
     "output_type": "stream",
     "text": [
      "Epoch 1/3\n",
      "100/100 [==============================] - 14s 133ms/step - loss: 2.3082 - accuracy: 0.0908 - val_loss: 2.2934 - val_accuracy: 0.0697\n",
      "Epoch 2/3\n",
      "100/100 [==============================] - 12s 121ms/step - loss: 2.2922 - accuracy: 0.1091 - val_loss: 2.2780 - val_accuracy: 0.0904\n",
      "Epoch 3/3\n",
      "100/100 [==============================] - 13s 127ms/step - loss: 2.2799 - accuracy: 0.1264 - val_loss: 2.2627 - val_accuracy: 0.1360\n"
     ]
    },
    {
     "data": {
      "text/plain": [
       "<keras.callbacks.History at 0x155903d30>"
      ]
     },
     "execution_count": 5,
     "metadata": {},
     "output_type": "execute_result"
    }
   ],
   "source": [
    "model.compile(loss=keras.losses.categorical_crossentropy,\n",
    "              optimizer=keras.optimizers.Adadelta(),\n",
    "              metrics=['accuracy'])\n",
    "\n",
    "model.fit(x_train, y_train,\n",
    "          batch_size=batch_size,\n",
    "          steps_per_epoch=100,\n",
    "          epochs=epochs,\n",
    "          verbose=1,\n",
    "          validation_data=(x_test, y_test))"
   ]
  },
  {
   "cell_type": "markdown",
   "id": "6949465f-389e-4f43-89d5-63212bb4af9b",
   "metadata": {},
   "source": [
    "## Evaluate the model"
   ]
  },
  {
   "cell_type": "code",
   "execution_count": 6,
   "id": "5fa6cea3-5729-4ada-9d35-9643bee38cbe",
   "metadata": {},
   "outputs": [
    {
     "name": "stdout",
     "output_type": "stream",
     "text": [
      "Test loss: 2.262650489807129\n",
      "Test accuracy: 0.13600000739097595\n"
     ]
    }
   ],
   "source": [
    "score = model.evaluate(x_test, y_test, verbose=0)\n",
    "print('Test loss:', score[0])\n",
    "print('Test accuracy:', score[1])"
   ]
  },
  {
   "cell_type": "code",
   "execution_count": null,
   "id": "521d24cb-d992-4237-b0eb-d64d03e0893c",
   "metadata": {},
   "outputs": [],
   "source": []
  }
 ],
 "metadata": {
  "kernelspec": {
   "display_name": "Python 3 (ipykernel)",
   "language": "python",
   "name": "python3"
  },
  "language_info": {
   "codemirror_mode": {
    "name": "ipython",
    "version": 3
   },
   "file_extension": ".py",
   "mimetype": "text/x-python",
   "name": "python",
   "nbconvert_exporter": "python",
   "pygments_lexer": "ipython3",
   "version": "3.10.4"
  }
 },
 "nbformat": 4,
 "nbformat_minor": 5
}
