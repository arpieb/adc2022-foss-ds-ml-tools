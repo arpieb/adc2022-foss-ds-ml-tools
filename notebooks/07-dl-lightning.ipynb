{
 "cells": [
  {
   "cell_type": "markdown",
   "id": "fc647b67-3910-4584-a774-41eef28fba44",
   "metadata": {
    "execution": {
     "iopub.execute_input": "2022-09-15T01:47:42.698294Z",
     "iopub.status.busy": "2022-09-15T01:47:42.697714Z",
     "iopub.status.idle": "2022-09-15T01:47:42.714599Z",
     "shell.execute_reply": "2022-09-15T01:47:42.712416Z",
     "shell.execute_reply.started": "2022-09-15T01:47:42.698203Z"
    }
   },
   "source": [
    "# Intro to Deep Learning - PyTorch Lightning\n",
    "\n",
    "https://towardsdatascience.com/converting-from-keras-to-pytorch-lightning-be40326d7b7d"
   ]
  },
  {
   "cell_type": "markdown",
   "id": "b187f074-4d9e-4197-8d21-ec7777ce5b4b",
   "metadata": {
    "tags": []
   },
   "source": [
    "## Install packages"
   ]
  },
  {
   "cell_type": "code",
   "execution_count": 1,
   "id": "7af30e23-ee1b-401c-ad9f-3e664ad4598e",
   "metadata": {
    "tags": []
   },
   "outputs": [
    {
     "name": "stdout",
     "output_type": "stream",
     "text": [
      "Requirement already satisfied: torch in /Users/rbates/src/adc2022-foss-ds-ml-tools/ENV/lib/python3.10/site-packages (1.12.1)\n",
      "Requirement already satisfied: torchvision in /Users/rbates/src/adc2022-foss-ds-ml-tools/ENV/lib/python3.10/site-packages (0.13.1)\n",
      "Requirement already satisfied: torchmetrics in /Users/rbates/src/adc2022-foss-ds-ml-tools/ENV/lib/python3.10/site-packages (0.9.3)\n",
      "Requirement already satisfied: pytorch-lightning in /Users/rbates/src/adc2022-foss-ds-ml-tools/ENV/lib/python3.10/site-packages (1.7.6)\n",
      "Requirement already satisfied: typing-extensions in /Users/rbates/src/adc2022-foss-ds-ml-tools/ENV/lib/python3.10/site-packages (from torch) (4.3.0)\n",
      "Requirement already satisfied: numpy in /Users/rbates/src/adc2022-foss-ds-ml-tools/ENV/lib/python3.10/site-packages (from torchvision) (1.23.3)\n",
      "Requirement already satisfied: requests in /Users/rbates/src/adc2022-foss-ds-ml-tools/ENV/lib/python3.10/site-packages (from torchvision) (2.28.1)\n",
      "Requirement already satisfied: pillow!=8.3.*,>=5.3.0 in /Users/rbates/src/adc2022-foss-ds-ml-tools/ENV/lib/python3.10/site-packages (from torchvision) (9.2.0)\n",
      "Requirement already satisfied: packaging in /Users/rbates/src/adc2022-foss-ds-ml-tools/ENV/lib/python3.10/site-packages (from torchmetrics) (21.3)\n",
      "Requirement already satisfied: fsspec[http]!=2021.06.0,>=2021.05.0 in /Users/rbates/src/adc2022-foss-ds-ml-tools/ENV/lib/python3.10/site-packages (from pytorch-lightning) (2022.8.2)\n",
      "Requirement already satisfied: tqdm>=4.57.0 in /Users/rbates/src/adc2022-foss-ds-ml-tools/ENV/lib/python3.10/site-packages (from pytorch-lightning) (4.64.1)\n",
      "Requirement already satisfied: PyYAML>=5.4 in /Users/rbates/src/adc2022-foss-ds-ml-tools/ENV/lib/python3.10/site-packages (from pytorch-lightning) (6.0)\n",
      "Requirement already satisfied: pyDeprecate>=0.3.1 in /Users/rbates/src/adc2022-foss-ds-ml-tools/ENV/lib/python3.10/site-packages (from pytorch-lightning) (0.3.2)\n",
      "Requirement already satisfied: tensorboard>=2.9.1 in /Users/rbates/src/adc2022-foss-ds-ml-tools/ENV/lib/python3.10/site-packages (from pytorch-lightning) (2.10.0)\n",
      "Requirement already satisfied: aiohttp!=4.0.0a0,!=4.0.0a1 in /Users/rbates/src/adc2022-foss-ds-ml-tools/ENV/lib/python3.10/site-packages (from fsspec[http]!=2021.06.0,>=2021.05.0->pytorch-lightning) (3.8.1)\n",
      "Requirement already satisfied: pyparsing!=3.0.5,>=2.0.2 in /Users/rbates/src/adc2022-foss-ds-ml-tools/ENV/lib/python3.10/site-packages (from packaging->torchmetrics) (3.0.9)\n",
      "Requirement already satisfied: wheel>=0.26 in /Users/rbates/src/adc2022-foss-ds-ml-tools/ENV/lib/python3.10/site-packages (from tensorboard>=2.9.1->pytorch-lightning) (0.37.1)\n",
      "Requirement already satisfied: grpcio>=1.24.3 in /Users/rbates/src/adc2022-foss-ds-ml-tools/ENV/lib/python3.10/site-packages (from tensorboard>=2.9.1->pytorch-lightning) (1.49.0)\n",
      "Requirement already satisfied: google-auth<3,>=1.6.3 in /Users/rbates/src/adc2022-foss-ds-ml-tools/ENV/lib/python3.10/site-packages (from tensorboard>=2.9.1->pytorch-lightning) (2.11.0)\n",
      "Requirement already satisfied: markdown>=2.6.8 in /Users/rbates/src/adc2022-foss-ds-ml-tools/ENV/lib/python3.10/site-packages (from tensorboard>=2.9.1->pytorch-lightning) (3.4.1)\n",
      "Requirement already satisfied: google-auth-oauthlib<0.5,>=0.4.1 in /Users/rbates/src/adc2022-foss-ds-ml-tools/ENV/lib/python3.10/site-packages (from tensorboard>=2.9.1->pytorch-lightning) (0.4.6)\n",
      "Requirement already satisfied: tensorboard-plugin-wit>=1.6.0 in /Users/rbates/src/adc2022-foss-ds-ml-tools/ENV/lib/python3.10/site-packages (from tensorboard>=2.9.1->pytorch-lightning) (1.8.1)\n",
      "Requirement already satisfied: tensorboard-data-server<0.7.0,>=0.6.0 in /Users/rbates/src/adc2022-foss-ds-ml-tools/ENV/lib/python3.10/site-packages (from tensorboard>=2.9.1->pytorch-lightning) (0.6.1)\n",
      "Requirement already satisfied: protobuf<3.20,>=3.9.2 in /Users/rbates/src/adc2022-foss-ds-ml-tools/ENV/lib/python3.10/site-packages (from tensorboard>=2.9.1->pytorch-lightning) (3.19.5)\n",
      "Requirement already satisfied: absl-py>=0.4 in /Users/rbates/src/adc2022-foss-ds-ml-tools/ENV/lib/python3.10/site-packages (from tensorboard>=2.9.1->pytorch-lightning) (1.2.0)\n",
      "Requirement already satisfied: werkzeug>=1.0.1 in /Users/rbates/src/adc2022-foss-ds-ml-tools/ENV/lib/python3.10/site-packages (from tensorboard>=2.9.1->pytorch-lightning) (2.2.2)\n",
      "Requirement already satisfied: setuptools>=41.0.0 in /Users/rbates/src/adc2022-foss-ds-ml-tools/ENV/lib/python3.10/site-packages (from tensorboard>=2.9.1->pytorch-lightning) (65.3.0)\n",
      "Requirement already satisfied: idna<4,>=2.5 in /Users/rbates/src/adc2022-foss-ds-ml-tools/ENV/lib/python3.10/site-packages (from requests->torchvision) (3.4)\n",
      "Requirement already satisfied: charset-normalizer<3,>=2 in /Users/rbates/src/adc2022-foss-ds-ml-tools/ENV/lib/python3.10/site-packages (from requests->torchvision) (2.1.1)\n",
      "Requirement already satisfied: urllib3<1.27,>=1.21.1 in /Users/rbates/src/adc2022-foss-ds-ml-tools/ENV/lib/python3.10/site-packages (from requests->torchvision) (1.26.12)\n",
      "Requirement already satisfied: certifi>=2017.4.17 in /Users/rbates/src/adc2022-foss-ds-ml-tools/ENV/lib/python3.10/site-packages (from requests->torchvision) (2022.9.14)\n",
      "Requirement already satisfied: async-timeout<5.0,>=4.0.0a3 in /Users/rbates/src/adc2022-foss-ds-ml-tools/ENV/lib/python3.10/site-packages (from aiohttp!=4.0.0a0,!=4.0.0a1->fsspec[http]!=2021.06.0,>=2021.05.0->pytorch-lightning) (4.0.2)\n",
      "Requirement already satisfied: aiosignal>=1.1.2 in /Users/rbates/src/adc2022-foss-ds-ml-tools/ENV/lib/python3.10/site-packages (from aiohttp!=4.0.0a0,!=4.0.0a1->fsspec[http]!=2021.06.0,>=2021.05.0->pytorch-lightning) (1.2.0)\n",
      "Requirement already satisfied: attrs>=17.3.0 in /Users/rbates/src/adc2022-foss-ds-ml-tools/ENV/lib/python3.10/site-packages (from aiohttp!=4.0.0a0,!=4.0.0a1->fsspec[http]!=2021.06.0,>=2021.05.0->pytorch-lightning) (22.1.0)\n",
      "Requirement already satisfied: yarl<2.0,>=1.0 in /Users/rbates/src/adc2022-foss-ds-ml-tools/ENV/lib/python3.10/site-packages (from aiohttp!=4.0.0a0,!=4.0.0a1->fsspec[http]!=2021.06.0,>=2021.05.0->pytorch-lightning) (1.8.1)\n",
      "Requirement already satisfied: multidict<7.0,>=4.5 in /Users/rbates/src/adc2022-foss-ds-ml-tools/ENV/lib/python3.10/site-packages (from aiohttp!=4.0.0a0,!=4.0.0a1->fsspec[http]!=2021.06.0,>=2021.05.0->pytorch-lightning) (6.0.2)\n",
      "Requirement already satisfied: frozenlist>=1.1.1 in /Users/rbates/src/adc2022-foss-ds-ml-tools/ENV/lib/python3.10/site-packages (from aiohttp!=4.0.0a0,!=4.0.0a1->fsspec[http]!=2021.06.0,>=2021.05.0->pytorch-lightning) (1.3.1)\n",
      "Requirement already satisfied: rsa<5,>=3.1.4 in /Users/rbates/src/adc2022-foss-ds-ml-tools/ENV/lib/python3.10/site-packages (from google-auth<3,>=1.6.3->tensorboard>=2.9.1->pytorch-lightning) (4.9)\n",
      "Requirement already satisfied: six>=1.9.0 in /Users/rbates/src/adc2022-foss-ds-ml-tools/ENV/lib/python3.10/site-packages (from google-auth<3,>=1.6.3->tensorboard>=2.9.1->pytorch-lightning) (1.16.0)\n",
      "Requirement already satisfied: pyasn1-modules>=0.2.1 in /Users/rbates/src/adc2022-foss-ds-ml-tools/ENV/lib/python3.10/site-packages (from google-auth<3,>=1.6.3->tensorboard>=2.9.1->pytorch-lightning) (0.2.8)\n",
      "Requirement already satisfied: cachetools<6.0,>=2.0.0 in /Users/rbates/src/adc2022-foss-ds-ml-tools/ENV/lib/python3.10/site-packages (from google-auth<3,>=1.6.3->tensorboard>=2.9.1->pytorch-lightning) (5.2.0)\n",
      "Requirement already satisfied: requests-oauthlib>=0.7.0 in /Users/rbates/src/adc2022-foss-ds-ml-tools/ENV/lib/python3.10/site-packages (from google-auth-oauthlib<0.5,>=0.4.1->tensorboard>=2.9.1->pytorch-lightning) (1.3.1)\n",
      "Requirement already satisfied: MarkupSafe>=2.1.1 in /Users/rbates/src/adc2022-foss-ds-ml-tools/ENV/lib/python3.10/site-packages (from werkzeug>=1.0.1->tensorboard>=2.9.1->pytorch-lightning) (2.1.1)\n",
      "Requirement already satisfied: pyasn1<0.5.0,>=0.4.6 in /Users/rbates/src/adc2022-foss-ds-ml-tools/ENV/lib/python3.10/site-packages (from pyasn1-modules>=0.2.1->google-auth<3,>=1.6.3->tensorboard>=2.9.1->pytorch-lightning) (0.4.8)\n",
      "Requirement already satisfied: oauthlib>=3.0.0 in /Users/rbates/src/adc2022-foss-ds-ml-tools/ENV/lib/python3.10/site-packages (from requests-oauthlib>=0.7.0->google-auth-oauthlib<0.5,>=0.4.1->tensorboard>=2.9.1->pytorch-lightning) (3.2.1)\n"
     ]
    }
   ],
   "source": [
    "!pip install torch torchvision torchmetrics pytorch-lightning"
   ]
  },
  {
   "cell_type": "code",
   "execution_count": 2,
   "id": "db723724-2f85-482c-8eb0-8eb1f90ea85f",
   "metadata": {
    "tags": []
   },
   "outputs": [],
   "source": [
    "import os\n",
    "\n",
    "import pandas as pd\n",
    "import seaborn as sn\n",
    "import torch\n",
    "from IPython import display\n",
    "from pytorch_lightning import LightningModule, Trainer\n",
    "from pytorch_lightning.callbacks.progress import TQDMProgressBar\n",
    "from pytorch_lightning.loggers import CSVLogger\n",
    "from torch import nn\n",
    "from torch.nn import functional as F\n",
    "from torch.utils.data import DataLoader, random_split\n",
    "import torchmetrics\n",
    "from torchvision import transforms\n",
    "from torchvision.datasets import MNIST\n",
    "\n",
    "PATH_DATASETS = os.environ.get(\"PATH_DATASETS\", \".\")\n",
    "BATCH_SIZE = 128"
   ]
  },
  {
   "cell_type": "markdown",
   "id": "c4ea8594-77ac-42c7-a215-c80670ff832c",
   "metadata": {},
   "source": [
    "## Prepare train-test splits"
   ]
  },
  {
   "cell_type": "code",
   "execution_count": 3,
   "id": "7b9942f8-6af7-4f81-b4fe-2b6e090c70cc",
   "metadata": {
    "tags": []
   },
   "outputs": [],
   "source": [
    "# Init DataLoader from MNIST Dataset\n",
    "train_ds = MNIST(PATH_DATASETS, train=True, download=True, transform=transforms.ToTensor())\n",
    "train_loader = DataLoader(train_ds, batch_size=BATCH_SIZE)\n",
    "\n",
    "test_ds = MNIST(PATH_DATASETS, train=False, download=True, transform=transforms.ToTensor())\n",
    "test_loader = DataLoader(train_ds, batch_size=BATCH_SIZE)"
   ]
  },
  {
   "cell_type": "markdown",
   "id": "ca57d391-7d76-45ef-b713-2e0c7e4e41ee",
   "metadata": {},
   "source": [
    "## Define the model"
   ]
  },
  {
   "cell_type": "code",
   "execution_count": 4,
   "id": "ea8b0642-d28d-4dbe-a9ef-f6491cd417c1",
   "metadata": {
    "tags": []
   },
   "outputs": [],
   "source": [
    "class MNISTModel(LightningModule):\n",
    "    def __init__(self):\n",
    "        super().__init__()\n",
    "        self.accuracy = torchmetrics.Accuracy()\n",
    "        self.l1 = torch.nn.Linear(28 * 28, 10)\n",
    "\n",
    "    def forward(self, x):\n",
    "        return torch.relu(self.l1(x.view(x.size(0), -1)))\n",
    "\n",
    "    def training_step(self, batch, batch_nb):\n",
    "        x, y = batch\n",
    "        preds = self(x)\n",
    "        loss = F.cross_entropy(preds, y)\n",
    "        self.log('train_loss_step', loss)\n",
    "        self.accuracy(preds, y)\n",
    "        self.log('train_acc_step', self.accuracy)\n",
    "        return loss\n",
    "\n",
    "    def test_step(self, batch, batch_nb):\n",
    "        x, y = batch\n",
    "        preds = self(x)\n",
    "        loss = F.cross_entropy(preds, y)\n",
    "        self.log('test_loss_step', loss)\n",
    "        self.accuracy(preds, y)\n",
    "        self.log('test_acc_step', self.accuracy)\n",
    "        return loss\n",
    "\n",
    "    def configure_optimizers(self):\n",
    "        return torch.optim.Adam(self.parameters(), lr=0.02)"
   ]
  },
  {
   "cell_type": "markdown",
   "id": "daa0c357-e11b-4016-ab8a-7fa2892f1e23",
   "metadata": {},
   "source": [
    "## Compile and train the model"
   ]
  },
  {
   "cell_type": "code",
   "execution_count": 5,
   "id": "296cc13f-18a8-447f-967d-969b16ac686d",
   "metadata": {
    "tags": []
   },
   "outputs": [
    {
     "name": "stderr",
     "output_type": "stream",
     "text": [
      "GPU available: False, used: False\n",
      "TPU available: False, using: 0 TPU cores\n",
      "IPU available: False, using: 0 IPUs\n",
      "HPU available: False, using: 0 HPUs\n",
      "\n",
      "  | Name     | Type     | Params\n",
      "--------------------------------------\n",
      "0 | accuracy | Accuracy | 0     \n",
      "1 | l1       | Linear   | 7.9 K \n",
      "--------------------------------------\n",
      "7.9 K     Trainable params\n",
      "0         Non-trainable params\n",
      "7.9 K     Total params\n",
      "0.031     Total estimated model params size (MB)\n",
      "/Users/rbates/src/adc2022-foss-ds-ml-tools/ENV/lib/python3.10/site-packages/pytorch_lightning/trainer/connectors/data_connector.py:236: PossibleUserWarning: The dataloader, train_dataloader, does not have many workers which may be a bottleneck. Consider increasing the value of the `num_workers` argument` (try 8 which is the number of cpus on this machine) in the `DataLoader` init to improve performance.\n",
      "  rank_zero_warn(\n"
     ]
    },
    {
     "data": {
      "application/vnd.jupyter.widget-view+json": {
       "model_id": "aaaed7eac0d742d0b129440a387f52b4",
       "version_major": 2,
       "version_minor": 0
      },
      "text/plain": [
       "Training: 0it [00:00, ?it/s]"
      ]
     },
     "metadata": {},
     "output_type": "display_data"
    },
    {
     "name": "stderr",
     "output_type": "stream",
     "text": [
      "2022-09-15 19:24:20.581810: I tensorflow/core/platform/cpu_feature_guard.cc:193] This TensorFlow binary is optimized with oneAPI Deep Neural Network Library (oneDNN) to use the following CPU instructions in performance-critical operations:  AVX2 FMA\n",
      "To enable them in other operations, rebuild TensorFlow with the appropriate compiler flags.\n",
      "`Trainer.fit` stopped: `max_epochs=3` reached.\n"
     ]
    }
   ],
   "source": [
    "# Init our model\n",
    "mnist_model = MNISTModel()\n",
    "\n",
    "# Initialize a trainer\n",
    "trainer = Trainer(\n",
    "    max_epochs=3,\n",
    "    limit_train_batches=100,\n",
    "    callbacks=[TQDMProgressBar(refresh_rate=10)]\n",
    ")\n",
    "\n",
    "# Train the model ⚡\n",
    "trainer.fit(mnist_model, train_loader)"
   ]
  },
  {
   "cell_type": "markdown",
   "id": "fc5cf221-0ab1-41c7-81e0-d1bdda53d007",
   "metadata": {},
   "source": [
    "## Evaluate the model"
   ]
  },
  {
   "cell_type": "code",
   "execution_count": 6,
   "id": "ea533a4a-b860-4614-9e7f-89847a5fd976",
   "metadata": {},
   "outputs": [
    {
     "name": "stderr",
     "output_type": "stream",
     "text": [
      "/Users/rbates/src/adc2022-foss-ds-ml-tools/ENV/lib/python3.10/site-packages/pytorch_lightning/trainer/connectors/data_connector.py:236: PossibleUserWarning: The dataloader, test_dataloader 0, does not have many workers which may be a bottleneck. Consider increasing the value of the `num_workers` argument` (try 8 which is the number of cpus on this machine) in the `DataLoader` init to improve performance.\n",
      "  rank_zero_warn(\n"
     ]
    },
    {
     "data": {
      "application/vnd.jupyter.widget-view+json": {
       "model_id": "02f098769d66490a87c9cc2e1d6473b6",
       "version_major": 2,
       "version_minor": 0
      },
      "text/plain": [
       "Testing: 0it [00:00, ?it/s]"
      ]
     },
     "metadata": {},
     "output_type": "display_data"
    },
    {
     "name": "stdout",
     "output_type": "stream",
     "text": [
      "────────────────────────────────────────────────────────────────────────────────────────────────────────────────────────\n",
      "       Test metric             DataLoader 0\n",
      "────────────────────────────────────────────────────────────────────────────────────────────────────────────────────────\n",
      "      test_acc_step         0.6431833505630493\n",
      "     test_loss_step         1.1750569343566895\n",
      "────────────────────────────────────────────────────────────────────────────────────────────────────────────────────────\n"
     ]
    },
    {
     "data": {
      "text/plain": [
       "[{'test_loss_step': 1.1750569343566895, 'test_acc_step': 0.6431833505630493}]"
      ]
     },
     "execution_count": 6,
     "metadata": {},
     "output_type": "execute_result"
    }
   ],
   "source": [
    "trainer.test(mnist_model, test_loader)"
   ]
  },
  {
   "cell_type": "code",
   "execution_count": null,
   "id": "8204692c-0f98-4b1e-ba2a-f45aa71e3d4a",
   "metadata": {},
   "outputs": [],
   "source": []
  }
 ],
 "metadata": {
  "kernelspec": {
   "display_name": "Python 3 (ipykernel)",
   "language": "python",
   "name": "python3"
  },
  "language_info": {
   "codemirror_mode": {
    "name": "ipython",
    "version": 3
   },
   "file_extension": ".py",
   "mimetype": "text/x-python",
   "name": "python",
   "nbconvert_exporter": "python",
   "pygments_lexer": "ipython3",
   "version": "3.10.4"
  }
 },
 "nbformat": 4,
 "nbformat_minor": 5
}
